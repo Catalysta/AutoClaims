{
 "cells": [
  {
   "cell_type": "markdown",
   "id": "976eccfa",
   "metadata": {},
   "source": [
    "# Auto Claims Data Load"
   ]
  },
  {
   "cell_type": "markdown",
   "id": "6b3b6263",
   "metadata": {},
   "source": [
    "## Install required packages"
   ]
  },
  {
   "cell_type": "code",
   "execution_count": 20,
   "id": "ce106c29",
   "metadata": {
    "scrolled": true
   },
   "outputs": [
    {
     "name": "stdout",
     "output_type": "stream",
     "text": [
      "Collecting seaborn\n",
      "  Downloading seaborn-0.11.2-py3-none-any.whl (292 kB)\n",
      "     -------------------------------------- 292.8/292.8 kB 2.3 MB/s eta 0:00:00\n",
      "Requirement already satisfied: pandas>=0.23 in c:\\virtualenvs\\autoclaims\\lib\\site-packages (from seaborn) (1.4.3)\n",
      "Requirement already satisfied: scipy>=1.0 in c:\\virtualenvs\\autoclaims\\lib\\site-packages (from seaborn) (1.9.0)\n",
      "Requirement already satisfied: matplotlib>=2.2 in c:\\virtualenvs\\autoclaims\\lib\\site-packages (from seaborn) (3.5.3)\n",
      "Requirement already satisfied: numpy>=1.15 in c:\\virtualenvs\\autoclaims\\lib\\site-packages (from seaborn) (1.23.2)\n",
      "Requirement already satisfied: pillow>=6.2.0 in c:\\virtualenvs\\autoclaims\\lib\\site-packages (from matplotlib>=2.2->seaborn) (9.2.0)\n",
      "Requirement already satisfied: kiwisolver>=1.0.1 in c:\\virtualenvs\\autoclaims\\lib\\site-packages (from matplotlib>=2.2->seaborn) (1.4.4)\n",
      "Requirement already satisfied: packaging>=20.0 in c:\\virtualenvs\\autoclaims\\lib\\site-packages (from matplotlib>=2.2->seaborn) (21.3)\n",
      "Requirement already satisfied: python-dateutil>=2.7 in c:\\virtualenvs\\autoclaims\\lib\\site-packages (from matplotlib>=2.2->seaborn) (2.8.2)\n",
      "Requirement already satisfied: cycler>=0.10 in c:\\virtualenvs\\autoclaims\\lib\\site-packages (from matplotlib>=2.2->seaborn) (0.11.0)\n",
      "Requirement already satisfied: fonttools>=4.22.0 in c:\\virtualenvs\\autoclaims\\lib\\site-packages (from matplotlib>=2.2->seaborn) (4.34.4)\n",
      "Requirement already satisfied: pyparsing>=2.2.1 in c:\\virtualenvs\\autoclaims\\lib\\site-packages (from matplotlib>=2.2->seaborn) (3.0.9)\n",
      "Requirement already satisfied: pytz>=2020.1 in c:\\virtualenvs\\autoclaims\\lib\\site-packages (from pandas>=0.23->seaborn) (2022.2.1)\n",
      "Requirement already satisfied: six>=1.5 in c:\\virtualenvs\\autoclaims\\lib\\site-packages (from python-dateutil>=2.7->matplotlib>=2.2->seaborn) (1.16.0)\n",
      "Installing collected packages: seaborn\n",
      "Successfully installed seaborn-0.11.2\n"
     ]
    }
   ],
   "source": [
    "# !pip install numpy\n",
    "# !pip install pandas\n",
    "# !pip install scikit-learn\n",
    "# !pip install dask\n",
    "# !pip install matplotlib\n",
    "# !pip install statsmodels\n",
    "# !pip install seaborn"
   ]
  },
  {
   "cell_type": "markdown",
   "id": "5a703bbb",
   "metadata": {},
   "source": [
    "## Load Packages"
   ]
  },
  {
   "cell_type": "code",
   "execution_count": 71,
   "id": "b508df44",
   "metadata": {},
   "outputs": [],
   "source": [
    "import numpy as np\n",
    "import pandas as pd\n",
    "import matplotlib.pyplot as plt\n",
    "import os\n",
    "import random\n",
    "import seaborn as sns\n",
    "import statsmodels.api as sm\n",
    "\n",
    "random.seed(81422)\n",
    "\n",
    "%matplotlib inline"
   ]
  },
  {
   "cell_type": "markdown",
   "id": "74ec5898",
   "metadata": {},
   "source": [
    "## Set up working directories"
   ]
  },
  {
   "cell_type": "code",
   "execution_count": 3,
   "id": "24a16755",
   "metadata": {},
   "outputs": [],
   "source": [
    "cwd = os.getcwd()\n",
    "\n",
    "inputdir = \"C:\\\\devl\\\\AutoClaims\\\\data\"\n",
    "outputdir = \"C:\\\\devl\\\\AutoClaims\\\\output\""
   ]
  },
  {
   "cell_type": "markdown",
   "id": "cbd3dc43",
   "metadata": {},
   "source": [
    "## Read in Data"
   ]
  },
  {
   "cell_type": "code",
   "execution_count": 4,
   "id": "1353ad23",
   "metadata": {},
   "outputs": [
    {
     "name": "stderr",
     "output_type": "stream",
     "text": [
      "C:\\Users\\kharu\\AppData\\Local\\Temp\\ipykernel_20544\\2247785172.py:1: DtypeWarning: Columns (20) have mixed types. Specify dtype option on import or set low_memory=False.\n",
      "  dat = pd.read_csv(inputdir + \"\\\\train_set.csv\")\n"
     ]
    }
   ],
   "source": [
    "dat = pd.read_csv(inputdir + \"\\\\train_set.csv\")"
   ]
  },
  {
   "cell_type": "code",
   "execution_count": 5,
   "id": "26ec0046",
   "metadata": {
    "scrolled": true
   },
   "outputs": [
    {
     "data": {
      "text/html": [
       "<div>\n",
       "<style scoped>\n",
       "    .dataframe tbody tr th:only-of-type {\n",
       "        vertical-align: middle;\n",
       "    }\n",
       "\n",
       "    .dataframe tbody tr th {\n",
       "        vertical-align: top;\n",
       "    }\n",
       "\n",
       "    .dataframe thead th {\n",
       "        text-align: right;\n",
       "    }\n",
       "</style>\n",
       "<table border=\"1\" class=\"dataframe\">\n",
       "  <thead>\n",
       "    <tr style=\"text-align: right;\">\n",
       "      <th></th>\n",
       "      <th>Row_ID</th>\n",
       "      <th>Household_ID</th>\n",
       "      <th>Vehicle</th>\n",
       "      <th>Calendar_Year</th>\n",
       "      <th>Model_Year</th>\n",
       "      <th>Blind_Make</th>\n",
       "      <th>Blind_Model</th>\n",
       "      <th>Blind_Submodel</th>\n",
       "      <th>Cat1</th>\n",
       "      <th>Cat2</th>\n",
       "      <th>...</th>\n",
       "      <th>Var5</th>\n",
       "      <th>Var6</th>\n",
       "      <th>Var7</th>\n",
       "      <th>Var8</th>\n",
       "      <th>NVCat</th>\n",
       "      <th>NVVar1</th>\n",
       "      <th>NVVar2</th>\n",
       "      <th>NVVar3</th>\n",
       "      <th>NVVar4</th>\n",
       "      <th>Claim_Amount</th>\n",
       "    </tr>\n",
       "  </thead>\n",
       "  <tbody>\n",
       "    <tr>\n",
       "      <th>0</th>\n",
       "      <td>1</td>\n",
       "      <td>1</td>\n",
       "      <td>3</td>\n",
       "      <td>2005</td>\n",
       "      <td>2005</td>\n",
       "      <td>K</td>\n",
       "      <td>K.78</td>\n",
       "      <td>K.78.2</td>\n",
       "      <td>D</td>\n",
       "      <td>C</td>\n",
       "      <td>...</td>\n",
       "      <td>1.008912</td>\n",
       "      <td>0.261040</td>\n",
       "      <td>0.907793</td>\n",
       "      <td>-0.077998</td>\n",
       "      <td>M</td>\n",
       "      <td>-0.23153</td>\n",
       "      <td>-0.266117</td>\n",
       "      <td>-0.272337</td>\n",
       "      <td>-0.251419</td>\n",
       "      <td>0.0</td>\n",
       "    </tr>\n",
       "    <tr>\n",
       "      <th>1</th>\n",
       "      <td>2</td>\n",
       "      <td>2</td>\n",
       "      <td>2</td>\n",
       "      <td>2005</td>\n",
       "      <td>2003</td>\n",
       "      <td>Q</td>\n",
       "      <td>Q.22</td>\n",
       "      <td>Q.22.3</td>\n",
       "      <td>B</td>\n",
       "      <td>C</td>\n",
       "      <td>...</td>\n",
       "      <td>1.240851</td>\n",
       "      <td>0.432987</td>\n",
       "      <td>-0.726459</td>\n",
       "      <td>0.204785</td>\n",
       "      <td>O</td>\n",
       "      <td>-0.23153</td>\n",
       "      <td>-0.266117</td>\n",
       "      <td>-0.272337</td>\n",
       "      <td>-0.251419</td>\n",
       "      <td>0.0</td>\n",
       "    </tr>\n",
       "    <tr>\n",
       "      <th>2</th>\n",
       "      <td>3</td>\n",
       "      <td>3</td>\n",
       "      <td>1</td>\n",
       "      <td>2005</td>\n",
       "      <td>1998</td>\n",
       "      <td>AR</td>\n",
       "      <td>AR.41</td>\n",
       "      <td>AR.41.1</td>\n",
       "      <td>B</td>\n",
       "      <td>?</td>\n",
       "      <td>...</td>\n",
       "      <td>-0.971487</td>\n",
       "      <td>-1.405797</td>\n",
       "      <td>-0.837048</td>\n",
       "      <td>-1.176858</td>\n",
       "      <td>F</td>\n",
       "      <td>-0.23153</td>\n",
       "      <td>-0.266117</td>\n",
       "      <td>-0.272337</td>\n",
       "      <td>-0.251419</td>\n",
       "      <td>0.0</td>\n",
       "    </tr>\n",
       "    <tr>\n",
       "      <th>3</th>\n",
       "      <td>4</td>\n",
       "      <td>3</td>\n",
       "      <td>1</td>\n",
       "      <td>2006</td>\n",
       "      <td>1998</td>\n",
       "      <td>AR</td>\n",
       "      <td>AR.41</td>\n",
       "      <td>AR.41.1</td>\n",
       "      <td>B</td>\n",
       "      <td>?</td>\n",
       "      <td>...</td>\n",
       "      <td>-0.971487</td>\n",
       "      <td>-1.405797</td>\n",
       "      <td>-0.837048</td>\n",
       "      <td>-1.176858</td>\n",
       "      <td>F</td>\n",
       "      <td>-0.23153</td>\n",
       "      <td>-0.266117</td>\n",
       "      <td>-0.272337</td>\n",
       "      <td>-0.251419</td>\n",
       "      <td>0.0</td>\n",
       "    </tr>\n",
       "    <tr>\n",
       "      <th>4</th>\n",
       "      <td>5</td>\n",
       "      <td>3</td>\n",
       "      <td>2</td>\n",
       "      <td>2005</td>\n",
       "      <td>2001</td>\n",
       "      <td>D</td>\n",
       "      <td>D.20</td>\n",
       "      <td>D.20.0</td>\n",
       "      <td>J</td>\n",
       "      <td>C</td>\n",
       "      <td>...</td>\n",
       "      <td>0.812656</td>\n",
       "      <td>2.112691</td>\n",
       "      <td>1.534462</td>\n",
       "      <td>2.347260</td>\n",
       "      <td>F</td>\n",
       "      <td>-0.23153</td>\n",
       "      <td>-0.266117</td>\n",
       "      <td>-0.272337</td>\n",
       "      <td>-0.251419</td>\n",
       "      <td>0.0</td>\n",
       "    </tr>\n",
       "  </tbody>\n",
       "</table>\n",
       "<p>5 rows × 35 columns</p>\n",
       "</div>"
      ],
      "text/plain": [
       "   Row_ID  Household_ID  Vehicle  Calendar_Year  Model_Year Blind_Make  \\\n",
       "0       1             1        3           2005        2005          K   \n",
       "1       2             2        2           2005        2003          Q   \n",
       "2       3             3        1           2005        1998         AR   \n",
       "3       4             3        1           2006        1998         AR   \n",
       "4       5             3        2           2005        2001          D   \n",
       "\n",
       "  Blind_Model Blind_Submodel Cat1 Cat2  ...      Var5      Var6      Var7  \\\n",
       "0        K.78         K.78.2    D    C  ...  1.008912  0.261040  0.907793   \n",
       "1        Q.22         Q.22.3    B    C  ...  1.240851  0.432987 -0.726459   \n",
       "2       AR.41        AR.41.1    B    ?  ... -0.971487 -1.405797 -0.837048   \n",
       "3       AR.41        AR.41.1    B    ?  ... -0.971487 -1.405797 -0.837048   \n",
       "4        D.20         D.20.0    J    C  ...  0.812656  2.112691  1.534462   \n",
       "\n",
       "       Var8 NVCat   NVVar1    NVVar2    NVVar3    NVVar4 Claim_Amount  \n",
       "0 -0.077998     M -0.23153 -0.266117 -0.272337 -0.251419          0.0  \n",
       "1  0.204785     O -0.23153 -0.266117 -0.272337 -0.251419          0.0  \n",
       "2 -1.176858     F -0.23153 -0.266117 -0.272337 -0.251419          0.0  \n",
       "3 -1.176858     F -0.23153 -0.266117 -0.272337 -0.251419          0.0  \n",
       "4  2.347260     F -0.23153 -0.266117 -0.272337 -0.251419          0.0  \n",
       "\n",
       "[5 rows x 35 columns]"
      ]
     },
     "execution_count": 5,
     "metadata": {},
     "output_type": "execute_result"
    }
   ],
   "source": [
    "dat.head()"
   ]
  },
  {
   "cell_type": "code",
   "execution_count": 6,
   "id": "12e7a8c8",
   "metadata": {},
   "outputs": [
    {
     "name": "stdout",
     "output_type": "stream",
     "text": [
      "13184290 rows \n",
      " 35 columns \n",
      " 4309042 unique households\n"
     ]
    }
   ],
   "source": [
    "# Check data shape and number of unique households\n",
    "print(dat.shape[0], \"rows\", \"\\n\", \\\n",
    "      dat.shape[1], \"columns\", \"\\n\", \\\n",
    "      dat['Household_ID'].nunique(), \"unique households\")\n"
   ]
  },
  {
   "cell_type": "markdown",
   "id": "d9b7a3bf",
   "metadata": {},
   "source": [
    "## Train/test splits"
   ]
  },
  {
   "cell_type": "markdown",
   "id": "d2f9ac6c",
   "metadata": {},
   "source": [
    "### Generate folds that:\n",
    "    1. Stratify on claim / no claim\n",
    "    2. Keep households and household vehicles within-folds to prevent data leakage"
   ]
  },
  {
   "cell_type": "code",
   "execution_count": 7,
   "id": "eba730fd",
   "metadata": {},
   "outputs": [],
   "source": [
    "dat['Claim'] = dat['Claim_Amount'] > 0"
   ]
  },
  {
   "cell_type": "code",
   "execution_count": 16,
   "id": "dfe93388",
   "metadata": {},
   "outputs": [
    {
     "data": {
      "text/plain": [
       "0.007251433334673312"
      ]
     },
     "execution_count": 16,
     "metadata": {},
     "output_type": "execute_result"
    }
   ],
   "source": [
    "dat['Claim'].mean()"
   ]
  },
  {
   "cell_type": "code",
   "execution_count": 8,
   "id": "43cb820a",
   "metadata": {},
   "outputs": [],
   "source": [
    "# extract unique HHIDs, reserve 20% for OOS testing, split rest into 5 folds\n",
    "HHIDs = dat['Household_ID'].copy().unique()\n",
    "\n",
    "random.shuffle(HHIDs)\n",
    "# dat = dat.set_index('Household_ID').loc[HHIDs].reset_index()"
   ]
  },
  {
   "cell_type": "code",
   "execution_count": 9,
   "id": "d9bd7b87",
   "metadata": {
    "scrolled": true
   },
   "outputs": [],
   "source": [
    "n_folds = 8 #5 for CV, 2 for test, 1 for final holdout\n",
    "folds = np.repeat(np.arange(1, n_folds + 1), len(HHIDs)//n_folds)\n",
    "\n",
    "folds = np.append(folds, np.repeat(n_folds, len(HHIDs) - len(folds)))\n"
   ]
  },
  {
   "cell_type": "code",
   "execution_count": 10,
   "id": "9c6f2cb2",
   "metadata": {},
   "outputs": [
    {
     "data": {
      "text/plain": [
       "4309042"
      ]
     },
     "execution_count": 10,
     "metadata": {},
     "output_type": "execute_result"
    }
   ],
   "source": [
    "np.bincount(folds)\n",
    "len(folds)"
   ]
  },
  {
   "cell_type": "code",
   "execution_count": 11,
   "id": "9794fa3c",
   "metadata": {},
   "outputs": [
    {
     "data": {
      "text/html": [
       "<div>\n",
       "<style scoped>\n",
       "    .dataframe tbody tr th:only-of-type {\n",
       "        vertical-align: middle;\n",
       "    }\n",
       "\n",
       "    .dataframe tbody tr th {\n",
       "        vertical-align: top;\n",
       "    }\n",
       "\n",
       "    .dataframe thead th {\n",
       "        text-align: right;\n",
       "    }\n",
       "</style>\n",
       "<table border=\"1\" class=\"dataframe\">\n",
       "  <thead>\n",
       "    <tr style=\"text-align: right;\">\n",
       "      <th></th>\n",
       "      <th>Row_ID</th>\n",
       "      <th>Household_ID</th>\n",
       "      <th>Vehicle</th>\n",
       "      <th>Calendar_Year</th>\n",
       "      <th>Model_Year</th>\n",
       "      <th>Blind_Make</th>\n",
       "      <th>Blind_Model</th>\n",
       "      <th>Blind_Submodel</th>\n",
       "      <th>Cat1</th>\n",
       "      <th>Cat2</th>\n",
       "      <th>...</th>\n",
       "      <th>Var7</th>\n",
       "      <th>Var8</th>\n",
       "      <th>NVCat</th>\n",
       "      <th>NVVar1</th>\n",
       "      <th>NVVar2</th>\n",
       "      <th>NVVar3</th>\n",
       "      <th>NVVar4</th>\n",
       "      <th>Claim_Amount</th>\n",
       "      <th>Claim</th>\n",
       "      <th>FOLD</th>\n",
       "    </tr>\n",
       "  </thead>\n",
       "  <tbody>\n",
       "    <tr>\n",
       "      <th>0</th>\n",
       "      <td>1</td>\n",
       "      <td>1</td>\n",
       "      <td>3</td>\n",
       "      <td>2005</td>\n",
       "      <td>2005</td>\n",
       "      <td>K</td>\n",
       "      <td>K.78</td>\n",
       "      <td>K.78.2</td>\n",
       "      <td>D</td>\n",
       "      <td>C</td>\n",
       "      <td>...</td>\n",
       "      <td>0.907793</td>\n",
       "      <td>-0.077998</td>\n",
       "      <td>M</td>\n",
       "      <td>-0.23153</td>\n",
       "      <td>-0.266117</td>\n",
       "      <td>-0.272337</td>\n",
       "      <td>-0.251419</td>\n",
       "      <td>0.0</td>\n",
       "      <td>False</td>\n",
       "      <td>5</td>\n",
       "    </tr>\n",
       "    <tr>\n",
       "      <th>1</th>\n",
       "      <td>2</td>\n",
       "      <td>2</td>\n",
       "      <td>2</td>\n",
       "      <td>2005</td>\n",
       "      <td>2003</td>\n",
       "      <td>Q</td>\n",
       "      <td>Q.22</td>\n",
       "      <td>Q.22.3</td>\n",
       "      <td>B</td>\n",
       "      <td>C</td>\n",
       "      <td>...</td>\n",
       "      <td>-0.726459</td>\n",
       "      <td>0.204785</td>\n",
       "      <td>O</td>\n",
       "      <td>-0.23153</td>\n",
       "      <td>-0.266117</td>\n",
       "      <td>-0.272337</td>\n",
       "      <td>-0.251419</td>\n",
       "      <td>0.0</td>\n",
       "      <td>False</td>\n",
       "      <td>3</td>\n",
       "    </tr>\n",
       "    <tr>\n",
       "      <th>2</th>\n",
       "      <td>3</td>\n",
       "      <td>3</td>\n",
       "      <td>1</td>\n",
       "      <td>2005</td>\n",
       "      <td>1998</td>\n",
       "      <td>AR</td>\n",
       "      <td>AR.41</td>\n",
       "      <td>AR.41.1</td>\n",
       "      <td>B</td>\n",
       "      <td>?</td>\n",
       "      <td>...</td>\n",
       "      <td>-0.837048</td>\n",
       "      <td>-1.176858</td>\n",
       "      <td>F</td>\n",
       "      <td>-0.23153</td>\n",
       "      <td>-0.266117</td>\n",
       "      <td>-0.272337</td>\n",
       "      <td>-0.251419</td>\n",
       "      <td>0.0</td>\n",
       "      <td>False</td>\n",
       "      <td>2</td>\n",
       "    </tr>\n",
       "    <tr>\n",
       "      <th>3</th>\n",
       "      <td>4</td>\n",
       "      <td>3</td>\n",
       "      <td>1</td>\n",
       "      <td>2006</td>\n",
       "      <td>1998</td>\n",
       "      <td>AR</td>\n",
       "      <td>AR.41</td>\n",
       "      <td>AR.41.1</td>\n",
       "      <td>B</td>\n",
       "      <td>?</td>\n",
       "      <td>...</td>\n",
       "      <td>-0.837048</td>\n",
       "      <td>-1.176858</td>\n",
       "      <td>F</td>\n",
       "      <td>-0.23153</td>\n",
       "      <td>-0.266117</td>\n",
       "      <td>-0.272337</td>\n",
       "      <td>-0.251419</td>\n",
       "      <td>0.0</td>\n",
       "      <td>False</td>\n",
       "      <td>2</td>\n",
       "    </tr>\n",
       "    <tr>\n",
       "      <th>4</th>\n",
       "      <td>5</td>\n",
       "      <td>3</td>\n",
       "      <td>2</td>\n",
       "      <td>2005</td>\n",
       "      <td>2001</td>\n",
       "      <td>D</td>\n",
       "      <td>D.20</td>\n",
       "      <td>D.20.0</td>\n",
       "      <td>J</td>\n",
       "      <td>C</td>\n",
       "      <td>...</td>\n",
       "      <td>1.534462</td>\n",
       "      <td>2.347260</td>\n",
       "      <td>F</td>\n",
       "      <td>-0.23153</td>\n",
       "      <td>-0.266117</td>\n",
       "      <td>-0.272337</td>\n",
       "      <td>-0.251419</td>\n",
       "      <td>0.0</td>\n",
       "      <td>False</td>\n",
       "      <td>2</td>\n",
       "    </tr>\n",
       "  </tbody>\n",
       "</table>\n",
       "<p>5 rows × 37 columns</p>\n",
       "</div>"
      ],
      "text/plain": [
       "   Row_ID  Household_ID  Vehicle  Calendar_Year  Model_Year Blind_Make  \\\n",
       "0       1             1        3           2005        2005          K   \n",
       "1       2             2        2           2005        2003          Q   \n",
       "2       3             3        1           2005        1998         AR   \n",
       "3       4             3        1           2006        1998         AR   \n",
       "4       5             3        2           2005        2001          D   \n",
       "\n",
       "  Blind_Model Blind_Submodel Cat1 Cat2  ...      Var7      Var8 NVCat  \\\n",
       "0        K.78         K.78.2    D    C  ...  0.907793 -0.077998     M   \n",
       "1        Q.22         Q.22.3    B    C  ... -0.726459  0.204785     O   \n",
       "2       AR.41        AR.41.1    B    ?  ... -0.837048 -1.176858     F   \n",
       "3       AR.41        AR.41.1    B    ?  ... -0.837048 -1.176858     F   \n",
       "4        D.20         D.20.0    J    C  ...  1.534462  2.347260     F   \n",
       "\n",
       "    NVVar1    NVVar2    NVVar3    NVVar4 Claim_Amount  Claim FOLD  \n",
       "0 -0.23153 -0.266117 -0.272337 -0.251419          0.0  False    5  \n",
       "1 -0.23153 -0.266117 -0.272337 -0.251419          0.0  False    3  \n",
       "2 -0.23153 -0.266117 -0.272337 -0.251419          0.0  False    2  \n",
       "3 -0.23153 -0.266117 -0.272337 -0.251419          0.0  False    2  \n",
       "4 -0.23153 -0.266117 -0.272337 -0.251419          0.0  False    2  \n",
       "\n",
       "[5 rows x 37 columns]"
      ]
     },
     "execution_count": 11,
     "metadata": {},
     "output_type": "execute_result"
    }
   ],
   "source": [
    "fold_map = {HHIDs[i]: folds[i] for i in range(len(HHIDs))}\n",
    "dat['FOLD'] = dat['Household_ID'].map(fold_map)\n",
    "dat.head()"
   ]
  },
  {
   "cell_type": "code",
   "execution_count": 12,
   "id": "d9a02828",
   "metadata": {
    "scrolled": true
   },
   "outputs": [
    {
     "data": {
      "text/plain": [
       "FOLD\n",
       "1    0.007288\n",
       "2    0.007230\n",
       "3    0.007263\n",
       "4    0.007201\n",
       "5    0.007220\n",
       "6    0.007136\n",
       "7    0.007330\n",
       "8    0.007344\n",
       "Name: Claim, dtype: float64"
      ]
     },
     "execution_count": 12,
     "metadata": {},
     "output_type": "execute_result"
    }
   ],
   "source": [
    "# Check claim occurrence by fold - the randomization has done a decent job\n",
    "# of distributing claims without explicit stratification\n",
    "dat.groupby('FOLD')['Claim'].mean()"
   ]
  },
  {
   "cell_type": "code",
   "execution_count": 13,
   "id": "34b191d6",
   "metadata": {},
   "outputs": [],
   "source": [
    "# Set testing data aside\n",
    "train_dat = dat[dat['FOLD'] < 6]\n",
    "test_dat = dat[dat['FOLD'] >= 6]"
   ]
  },
  {
   "cell_type": "code",
   "execution_count": 15,
   "id": "0f6eaedf",
   "metadata": {
    "scrolled": true
   },
   "outputs": [
    {
     "name": "stdout",
     "output_type": "stream",
     "text": [
      "(8239623, 37) (4944667, 37)\n"
     ]
    }
   ],
   "source": [
    "print(train_dat.shape, test_dat.shape)"
   ]
  },
  {
   "cell_type": "markdown",
   "id": "2e84fc5b",
   "metadata": {},
   "source": [
    "## EDA"
   ]
  },
  {
   "cell_type": "markdown",
   "id": "72589bf4",
   "metadata": {},
   "source": [
    "### Categorical Vars"
   ]
  },
  {
   "cell_type": "code",
   "execution_count": 17,
   "id": "728e97f0",
   "metadata": {
    "scrolled": true
   },
   "outputs": [
    {
     "name": "stdout",
     "output_type": "stream",
     "text": [
      "['Cat1', 'Cat2', 'Cat3', 'Cat4', 'Cat5', 'Cat6', 'Cat7', 'Cat8', 'Cat9', 'Cat10', 'Cat11', 'Cat12', 'OrdCat', 'NVCat']\n"
     ]
    }
   ],
   "source": [
    "cols_categorical = [col for col in dat.columns if 'Cat' in col]\n",
    "print(cols_categorical)"
   ]
  },
  {
   "cell_type": "code",
   "execution_count": 58,
   "id": "cb3d1ade",
   "metadata": {},
   "outputs": [
    {
     "name": "stdout",
     "output_type": "stream",
     "text": [
      "Cat1\n",
      "?      16231\n",
      "A     480498\n",
      "B    2511125\n",
      "C     251001\n",
      "D    1553652\n",
      "E     174793\n",
      "F     815579\n",
      "G     489340\n",
      "H     141419\n",
      "I    1659353\n",
      "J     146632\n",
      "Name: Cat1, dtype: int64\n",
      "Cat2\n",
      "?    3045472\n",
      "A    1369538\n",
      "B     140226\n",
      "C    3684387\n",
      "Name: Cat2, dtype: int64\n",
      "Cat3\n",
      "?       2496\n",
      "A    4680574\n",
      "B    1410980\n",
      "C     794169\n",
      "D     252615\n",
      "E     553441\n",
      "F     545348\n",
      "Name: Cat3, dtype: int64\n",
      "Cat4\n",
      "?    3519035\n",
      "A    3577485\n",
      "B     234924\n",
      "C     908179\n",
      "Name: Cat4, dtype: int64\n",
      "Cat5\n",
      "?    3522621\n",
      "A    4177160\n",
      "B      52567\n",
      "C     487275\n",
      "Name: Cat5, dtype: int64\n",
      "Cat6\n",
      "?      16231\n",
      "B    2664182\n",
      "C    2297208\n",
      "D    2254164\n",
      "E     733460\n",
      "F     274378\n",
      "Name: Cat6, dtype: int64\n",
      "Cat7\n",
      "?    4478503\n",
      "A     656972\n",
      "B     146357\n",
      "C    2886693\n",
      "D      71098\n",
      "Name: Cat7, dtype: int64\n",
      "Cat8\n",
      "?       2145\n",
      "A    5390084\n",
      "B    2296231\n",
      "C     551163\n",
      "Name: Cat8, dtype: int64\n",
      "Cat9\n",
      "A    1459563\n",
      "B    6780060\n",
      "Name: Cat9, dtype: int64\n",
      "Cat10\n",
      "?       2482\n",
      "A    5358391\n",
      "B    2479939\n",
      "C     398811\n",
      "Name: Cat10, dtype: int64\n",
      "Cat11\n",
      "?      19522\n",
      "A    4343938\n",
      "B    1984383\n",
      "C     690475\n",
      "D     199433\n",
      "E     509920\n",
      "F     491952\n",
      "Name: Cat11, dtype: int64\n",
      "Cat12\n",
      "A       1651\n",
      "B    2718034\n",
      "C    2262367\n",
      "D    2202660\n",
      "E     747450\n",
      "F     289527\n",
      "Name: Cat12, dtype: int64\n",
      "OrdCat\n",
      "1        217\n",
      "2      66914\n",
      "3       1481\n",
      "4      95696\n",
      "5      39165\n",
      "6        183\n",
      "7         68\n",
      "1       9817\n",
      "2    2523844\n",
      "3      57723\n",
      "4    3613457\n",
      "5    1814124\n",
      "6       9685\n",
      "7       2572\n",
      "?       4677\n",
      "Name: OrdCat, dtype: int64\n",
      "NVCat\n",
      "A      28015\n",
      "B     108524\n",
      "C      40484\n",
      "D       4211\n",
      "E     250773\n",
      "F     203510\n",
      "G      10059\n",
      "H      84146\n",
      "I      11956\n",
      "J     348986\n",
      "K      74867\n",
      "L     501725\n",
      "M    3604946\n",
      "N     830990\n",
      "O    2136431\n",
      "Name: NVCat, dtype: int64\n"
     ]
    }
   ],
   "source": [
    "# Check for thin counts, none look too bad but some work needs done on the \"OrdCat\" variable\n",
    "# OrdCat would need to be collapsed into bins forcing monotonicity to be treated as numeric\n",
    "for col in cols_categorical:\n",
    "    print(train_dat.groupby([col])[col].count())"
   ]
  },
  {
   "cell_type": "code",
   "execution_count": 56,
   "id": "0d617239",
   "metadata": {},
   "outputs": [],
   "source": [
    "#Deal with Missing Values - here just treat as another level"
   ]
  },
  {
   "cell_type": "code",
   "execution_count": 59,
   "id": "07b3f426",
   "metadata": {
    "scrolled": false
   },
   "outputs": [
    {
     "data": {
      "image/png": "[encoded data removed]",
      "text/plain": [
       "<Figure size 432x288 with 1 Axes>"
      ]
     },
     "metadata": {
      "needs_background": "light"
     },
     "output_type": "display_data"
    },
    {
     "data": {
      "image/png": "[encoded data removed]",
      "text/plain": [
       "<Figure size 432x288 with 1 Axes>"
      ]
     },
     "metadata": {
      "needs_background": "light"
     },
     "output_type": "display_data"
    },
    {
     "data": {
      "image/png": "[encoded data removed]",
      "text/plain": [
       "<Figure size 432x288 with 1 Axes>"
      ]
     },
     "metadata": {
      "needs_background": "light"
     },
     "output_type": "display_data"
    },
    {
     "data": {
      "image/png": "[encoded data removed]",
      "text/plain": [
       "<Figure size 432x288 with 1 Axes>"
      ]
     },
     "metadata": {
      "needs_background": "light"
     },
     "output_type": "display_data"
    },
    {
     "data": {
      "image/png": "[encoded data removed]",
      "text/plain": [
       "<Figure size 432x288 with 1 Axes>"
      ]
     },
     "metadata": {
      "needs_background": "light"
     },
     "output_type": "display_data"
    },
    {
     "data": {
      "image/png": "[encoded data removed]",
      "text/plain": [
       "<Figure size 432x288 with 1 Axes>"
      ]
     },
     "metadata": {
      "needs_background": "light"
     },
     "output_type": "display_data"
    },
    {
     "data": {
      "image/png": "[encoded data removed]",
      "text/plain": [
       "<Figure size 432x288 with 1 Axes>"
      ]
     },
     "metadata": {
      "needs_background": "light"
     },
     "output_type": "display_data"
    },
    {
     "data": {
      "image/png": "[encoded data removed]",
      "text/plain": [
       "<Figure size 432x288 with 1 Axes>"
      ]
     },
     "metadata": {
      "needs_background": "light"
     },
     "output_type": "display_data"
    },
    {
     "data": {
      "image/png": "[encoded data removed]",
      "text/plain": [
       "<Figure size 432x288 with 1 Axes>"
      ]
     },
     "metadata": {
      "needs_background": "light"
     },
     "output_type": "display_data"
    },
    {
     "data": {
      "image/png": "[encoded data removed]",
      "text/plain": [
       "<Figure size 432x288 with 1 Axes>"
      ]
     },
     "metadata": {
      "needs_background": "light"
     },
     "output_type": "display_data"
    },
    {
     "data": {
      "image/png": "[encoded data removed]",
      "text/plain": [
       "<Figure size 432x288 with 1 Axes>"
      ]
     },
     "metadata": {
      "needs_background": "light"
     },
     "output_type": "display_data"
    },
    {
     "data": {
      "image/png": "[encoded data removed]",
      "text/plain": [
       "<Figure size 432x288 with 1 Axes>"
      ]
     },
     "metadata": {
      "needs_background": "light"
     },
     "output_type": "display_data"
    },
    {
     "data": {
      "image/png": "[encoded data removed]",
      "text/plain": [
       "<Figure size 432x288 with 1 Axes>"
      ]
     },
     "metadata": {
      "needs_background": "light"
     },
     "output_type": "display_data"
    },
    {
     "data": {
      "image/png": "[encoded data removed]",
      "text/plain": [
       "<Figure size 432x288 with 1 Axes>"
      ]
     },
     "metadata": {
      "needs_background": "light"
     },
     "output_type": "display_data"
    }
   ],
   "source": [
    "#Plot everything\n",
    "for col in cols_categorical:\n",
    "    train_dat.groupby(col).mean()['Claim_Amount'].plot(kind = 'bar')\n",
    "    plt.show()"
   ]
  },
  {
   "cell_type": "code",
   "execution_count": 66,
   "id": "e2444c6a",
   "metadata": {
    "scrolled": true
   },
   "outputs": [
    {
     "name": "stdout",
     "output_type": "stream",
     "text": [
      "['Cat1', 'Cat3', 'Cat5', 'Cat6', 'Cat7', 'Cat8', 'Cat9', 'Cat10', 'Cat11', 'Cat12', 'NVCat']\n"
     ]
    }
   ],
   "source": [
    "# select predictors\n",
    "preds_categorical = [e for e in cols_categorical if e not in ('Cat2', 'Cat4','OrdCat')]\n",
    "print(preds_categorical)"
   ]
  },
  {
   "cell_type": "code",
   "execution_count": 88,
   "id": "2ef98795",
   "metadata": {
    "scrolled": true
   },
   "outputs": [
    {
     "data": {
      "text/html": [
       "<div>\n",
       "<style scoped>\n",
       "    .dataframe tbody tr th:only-of-type {\n",
       "        vertical-align: middle;\n",
       "    }\n",
       "\n",
       "    .dataframe tbody tr th {\n",
       "        vertical-align: top;\n",
       "    }\n",
       "\n",
       "    .dataframe thead th {\n",
       "        text-align: right;\n",
       "    }\n",
       "</style>\n",
       "<table border=\"1\" class=\"dataframe\">\n",
       "  <thead>\n",
       "    <tr style=\"text-align: right;\">\n",
       "      <th></th>\n",
       "      <th>Cat1_?</th>\n",
       "      <th>Cat1_A</th>\n",
       "      <th>Cat1_B</th>\n",
       "      <th>Cat1_C</th>\n",
       "      <th>Cat1_D</th>\n",
       "      <th>Cat1_E</th>\n",
       "      <th>Cat1_F</th>\n",
       "      <th>Cat1_G</th>\n",
       "      <th>Cat1_H</th>\n",
       "      <th>Cat1_I</th>\n",
       "      <th>...</th>\n",
       "      <th>NVCat_F</th>\n",
       "      <th>NVCat_G</th>\n",
       "      <th>NVCat_H</th>\n",
       "      <th>NVCat_I</th>\n",
       "      <th>NVCat_J</th>\n",
       "      <th>NVCat_K</th>\n",
       "      <th>NVCat_L</th>\n",
       "      <th>NVCat_M</th>\n",
       "      <th>NVCat_N</th>\n",
       "      <th>NVCat_O</th>\n",
       "    </tr>\n",
       "  </thead>\n",
       "  <tbody>\n",
       "    <tr>\n",
       "      <th>0</th>\n",
       "      <td>0</td>\n",
       "      <td>0</td>\n",
       "      <td>0</td>\n",
       "      <td>0</td>\n",
       "      <td>1</td>\n",
       "      <td>0</td>\n",
       "      <td>0</td>\n",
       "      <td>0</td>\n",
       "      <td>0</td>\n",
       "      <td>0</td>\n",
       "      <td>...</td>\n",
       "      <td>0</td>\n",
       "      <td>0</td>\n",
       "      <td>0</td>\n",
       "      <td>0</td>\n",
       "      <td>0</td>\n",
       "      <td>0</td>\n",
       "      <td>0</td>\n",
       "      <td>1</td>\n",
       "      <td>0</td>\n",
       "      <td>0</td>\n",
       "    </tr>\n",
       "    <tr>\n",
       "      <th>1</th>\n",
       "      <td>0</td>\n",
       "      <td>0</td>\n",
       "      <td>1</td>\n",
       "      <td>0</td>\n",
       "      <td>0</td>\n",
       "      <td>0</td>\n",
       "      <td>0</td>\n",
       "      <td>0</td>\n",
       "      <td>0</td>\n",
       "      <td>0</td>\n",
       "      <td>...</td>\n",
       "      <td>0</td>\n",
       "      <td>0</td>\n",
       "      <td>0</td>\n",
       "      <td>0</td>\n",
       "      <td>0</td>\n",
       "      <td>0</td>\n",
       "      <td>0</td>\n",
       "      <td>0</td>\n",
       "      <td>0</td>\n",
       "      <td>1</td>\n",
       "    </tr>\n",
       "    <tr>\n",
       "      <th>2</th>\n",
       "      <td>0</td>\n",
       "      <td>0</td>\n",
       "      <td>1</td>\n",
       "      <td>0</td>\n",
       "      <td>0</td>\n",
       "      <td>0</td>\n",
       "      <td>0</td>\n",
       "      <td>0</td>\n",
       "      <td>0</td>\n",
       "      <td>0</td>\n",
       "      <td>...</td>\n",
       "      <td>1</td>\n",
       "      <td>0</td>\n",
       "      <td>0</td>\n",
       "      <td>0</td>\n",
       "      <td>0</td>\n",
       "      <td>0</td>\n",
       "      <td>0</td>\n",
       "      <td>0</td>\n",
       "      <td>0</td>\n",
       "      <td>0</td>\n",
       "    </tr>\n",
       "    <tr>\n",
       "      <th>3</th>\n",
       "      <td>0</td>\n",
       "      <td>0</td>\n",
       "      <td>1</td>\n",
       "      <td>0</td>\n",
       "      <td>0</td>\n",
       "      <td>0</td>\n",
       "      <td>0</td>\n",
       "      <td>0</td>\n",
       "      <td>0</td>\n",
       "      <td>0</td>\n",
       "      <td>...</td>\n",
       "      <td>1</td>\n",
       "      <td>0</td>\n",
       "      <td>0</td>\n",
       "      <td>0</td>\n",
       "      <td>0</td>\n",
       "      <td>0</td>\n",
       "      <td>0</td>\n",
       "      <td>0</td>\n",
       "      <td>0</td>\n",
       "      <td>0</td>\n",
       "    </tr>\n",
       "    <tr>\n",
       "      <th>4</th>\n",
       "      <td>0</td>\n",
       "      <td>0</td>\n",
       "      <td>0</td>\n",
       "      <td>0</td>\n",
       "      <td>0</td>\n",
       "      <td>0</td>\n",
       "      <td>0</td>\n",
       "      <td>0</td>\n",
       "      <td>0</td>\n",
       "      <td>0</td>\n",
       "      <td>...</td>\n",
       "      <td>1</td>\n",
       "      <td>0</td>\n",
       "      <td>0</td>\n",
       "      <td>0</td>\n",
       "      <td>0</td>\n",
       "      <td>0</td>\n",
       "      <td>0</td>\n",
       "      <td>0</td>\n",
       "      <td>0</td>\n",
       "      <td>0</td>\n",
       "    </tr>\n",
       "  </tbody>\n",
       "</table>\n",
       "<p>5 rows × 71 columns</p>\n",
       "</div>"
      ],
      "text/plain": [
       "   Cat1_?  Cat1_A  Cat1_B  Cat1_C  Cat1_D  Cat1_E  Cat1_F  Cat1_G  Cat1_H  \\\n",
       "0       0       0       0       0       1       0       0       0       0   \n",
       "1       0       0       1       0       0       0       0       0       0   \n",
       "2       0       0       1       0       0       0       0       0       0   \n",
       "3       0       0       1       0       0       0       0       0       0   \n",
       "4       0       0       0       0       0       0       0       0       0   \n",
       "\n",
       "   Cat1_I  ...  NVCat_F  NVCat_G  NVCat_H  NVCat_I  NVCat_J  NVCat_K  NVCat_L  \\\n",
       "0       0  ...        0        0        0        0        0        0        0   \n",
       "1       0  ...        0        0        0        0        0        0        0   \n",
       "2       0  ...        1        0        0        0        0        0        0   \n",
       "3       0  ...        1        0        0        0        0        0        0   \n",
       "4       0  ...        1        0        0        0        0        0        0   \n",
       "\n",
       "   NVCat_M  NVCat_N  NVCat_O  \n",
       "0        1        0        0  \n",
       "1        0        0        1  \n",
       "2        0        0        0  \n",
       "3        0        0        0  \n",
       "4        0        0        0  \n",
       "\n",
       "[5 rows x 71 columns]"
      ]
     },
     "execution_count": 88,
     "metadata": {},
     "output_type": "execute_result"
    }
   ],
   "source": [
    "# Apply one-hot encoding -- these will enter model later\n",
    "\n",
    "X_categorical = pd.get_dummies(train_dat, columns = preds_categorical).loc[:,'Cat1_?':]\n",
    "X_categorical.head()"
   ]
  },
  {
   "cell_type": "markdown",
   "id": "7b9201d5",
   "metadata": {},
   "source": [
    "### Numeric Vars"
   ]
  },
  {
   "cell_type": "code",
   "execution_count": 67,
   "id": "d25af881",
   "metadata": {
    "scrolled": true
   },
   "outputs": [
    {
     "name": "stdout",
     "output_type": "stream",
     "text": [
      "['Var1', 'Var2', 'Var3', 'Var4', 'Var5', 'Var6', 'Var7', 'Var8', 'NVVar1', 'NVVar2', 'NVVar3', 'NVVar4']\n"
     ]
    }
   ],
   "source": [
    "cols_numeric = [col for col in dat.columns if 'Var' in col]\n",
    "print(cols_numeric)"
   ]
  },
  {
   "cell_type": "code",
   "execution_count": null,
   "id": "ab552757",
   "metadata": {},
   "outputs": [],
   "source": [
    "# plot univariate histograms"
   ]
  },
  {
   "cell_type": "code",
   "execution_count": 70,
   "id": "cf544dea",
   "metadata": {},
   "outputs": [
    {
     "data": {
      "image/png": "[encoded data removed]",
      "text/plain": [
       "<Figure size 432x288 with 1 Axes>"
      ]
     },
     "metadata": {
      "needs_background": "light"
     },
     "output_type": "display_data"
    },
    {
     "data": {
      "image/png": "[encoded data removed]",
      "text/plain": [
       "<Figure size 432x288 with 1 Axes>"
      ]
     },
     "metadata": {
      "needs_background": "light"
     },
     "output_type": "display_data"
    },
    {
     "data": {
      "image/png": "[encoded data removed]",
      "text/plain": [
       "<Figure size 432x288 with 1 Axes>"
      ]
     },
     "metadata": {
      "needs_background": "light"
     },
     "output_type": "display_data"
    },
    {
     "data": {
      "image/png": "[encoded data removed]",
      "text/plain": [
       "<Figure size 432x288 with 1 Axes>"
      ]
     },
     "metadata": {
      "needs_background": "light"
     },
     "output_type": "display_data"
    },
    {
     "data": {
      "image/png": "[encoded data removed]",
      "text/plain": [
       "<Figure size 432x288 with 1 Axes>"
      ]
     },
     "metadata": {
      "needs_background": "light"
     },
     "output_type": "display_data"
    },
    {
     "data": {
      "image/png": "[encoded data removed]",
      "text/plain": [
       "<Figure size 432x288 with 1 Axes>"
      ]
     },
     "metadata": {
      "needs_background": "light"
     },
     "output_type": "display_data"
    },
    {
     "data": {
      "image/png": "[encoded data removed]",
      "text/plain": [
       "<Figure size 432x288 with 1 Axes>"
      ]
     },
     "metadata": {
      "needs_background": "light"
     },
     "output_type": "display_data"
    },
    {
     "data": {
      "image/png": "[encoded data removed]",
      "text/plain": [
       "<Figure size 432x288 with 1 Axes>"
      ]
     },
     "metadata": {
      "needs_background": "light"
     },
     "output_type": "display_data"
    },
    {
     "data": {
      "image/png": "[encoded data removed]",
      "text/plain": [
       "<Figure size 432x288 with 1 Axes>"
      ]
     },
     "metadata": {
      "needs_background": "light"
     },
     "output_type": "display_data"
    },
    {
     "data": {
      "image/png": "[encoded data removed]",
      "text/plain": [
       "<Figure size 432x288 with 1 Axes>"
      ]
     },
     "metadata": {
      "needs_background": "light"
     },
     "output_type": "display_data"
    },
    {
     "data": {
      "image/png": "[encoded data removed]",
      "text/plain": [
       "<Figure size 432x288 with 1 Axes>"
      ]
     },
     "metadata": {
      "needs_background": "light"
     },
     "output_type": "display_data"
    },
    {
     "data": {
      "image/png": "[encoded data removed]",
      "text/plain": [
       "<Figure size 432x288 with 1 Axes>"
      ]
     },
     "metadata": {
      "needs_background": "light"
     },
     "output_type": "display_data"
    }
   ],
   "source": [
    "# plot everything nonzero\n",
    "for col in cols_numeric:\n",
    "    plt.scatter(train_dat[col], train_dat['Claim_Amount'])\n",
    "    plt.xlabel(col)\n",
    "    plt.ylabel(\"Claim_Amount\")\n",
    "    plt.show()"
   ]
  },
  {
   "cell_type": "code",
   "execution_count": 91,
   "id": "3dde4a12",
   "metadata": {},
   "outputs": [],
   "source": [
    "# Actually I would recommend a lot of work binning these to force linear monotonicity\n",
    "# BUT-- in the absence of time let's just add the quadratic terms and some interactions and see how we do!\n",
    "\n",
    "for col in cols_numeric:\n",
    "    dat[col + '_sqr'] = dat[col]**2"
   ]
  },
  {
   "cell_type": "code",
   "execution_count": 95,
   "id": "51b8c8c7",
   "metadata": {},
   "outputs": [],
   "source": [
    "train_dat = dat[dat['FOLD'] >= 6]"
   ]
  },
  {
   "cell_type": "code",
   "execution_count": 97,
   "id": "5acef1f2",
   "metadata": {},
   "outputs": [
    {
     "data": {
      "text/plain": [
       "Index(['Row_ID', 'Household_ID', 'Vehicle', 'Calendar_Year', 'Model_Year',\n",
       "       'Blind_Make', 'Blind_Model', 'Blind_Submodel', 'Cat1', 'Cat2', 'Cat3',\n",
       "       'Cat4', 'Cat5', 'Cat6', 'Cat7', 'Cat8', 'Cat9', 'Cat10', 'Cat11',\n",
       "       'Cat12', 'OrdCat', 'Var1', 'Var2', 'Var3', 'Var4', 'Var5', 'Var6',\n",
       "       'Var7', 'Var8', 'NVCat', 'NVVar1', 'NVVar2', 'NVVar3', 'NVVar4',\n",
       "       'Claim_Amount', 'Claim', 'FOLD', 'Var1_sqr', 'Var2_sqr', 'Var3_sqr',\n",
       "       'Var4_sqr', 'Var5_sqr', 'Var6_sqr', 'Var7_sqr', 'Var8_sqr',\n",
       "       'NVVar1_sqr', 'NVVar2_sqr', 'NVVar3_sqr', 'NVVar4_sqr'],\n",
       "      dtype='object')"
      ]
     },
     "execution_count": 97,
     "metadata": {},
     "output_type": "execute_result"
    }
   ],
   "source": [
    "train_dat.columns"
   ]
  },
  {
   "cell_type": "code",
   "execution_count": 78,
   "id": "25eaee45",
   "metadata": {
    "scrolled": false
   },
   "outputs": [
    {
     "name": "stdout",
     "output_type": "stream",
     "text": [
      "['Var1', 'Var2', 'Var3', 'Var4', 'Var5', 'Var6', 'Var7', 'Var8', 'NVVar1', 'NVVar2', 'NVVar3', 'NVVar4', 'Var1_sqr', 'Var2_sqr', 'Var3_sqr', 'Var4_sqr', 'Var5_sqr', 'Var6_sqr', 'Var7_sqr', 'Var8_sqr', 'NVVar1_sqr', 'NVVar2_sqr', 'NVVar3_sqr', 'NVVar4_sqr']\n"
     ]
    }
   ],
   "source": [
    "preds_numeric = [col for col in dat.columns if 'Var' in col ]\n",
    "print(preds_numeric)"
   ]
  },
  {
   "cell_type": "code",
   "execution_count": 99,
   "id": "a3ee167c",
   "metadata": {},
   "outputs": [
    {
     "data": {
      "text/html": [
       "<div>\n",
       "<style scoped>\n",
       "    .dataframe tbody tr th:only-of-type {\n",
       "        vertical-align: middle;\n",
       "    }\n",
       "\n",
       "    .dataframe tbody tr th {\n",
       "        vertical-align: top;\n",
       "    }\n",
       "\n",
       "    .dataframe thead th {\n",
       "        text-align: right;\n",
       "    }\n",
       "</style>\n",
       "<table border=\"1\" class=\"dataframe\">\n",
       "  <thead>\n",
       "    <tr style=\"text-align: right;\">\n",
       "      <th></th>\n",
       "      <th>Var1</th>\n",
       "      <th>Var2</th>\n",
       "      <th>Var3</th>\n",
       "      <th>Var4</th>\n",
       "      <th>Var5</th>\n",
       "      <th>Var6</th>\n",
       "      <th>Var7</th>\n",
       "      <th>Var8</th>\n",
       "      <th>NVVar1</th>\n",
       "      <th>NVVar2</th>\n",
       "      <th>...</th>\n",
       "      <th>Var3_sqr</th>\n",
       "      <th>Var4_sqr</th>\n",
       "      <th>Var5_sqr</th>\n",
       "      <th>Var6_sqr</th>\n",
       "      <th>Var7_sqr</th>\n",
       "      <th>Var8_sqr</th>\n",
       "      <th>NVVar1_sqr</th>\n",
       "      <th>NVVar2_sqr</th>\n",
       "      <th>NVVar3_sqr</th>\n",
       "      <th>NVVar4_sqr</th>\n",
       "    </tr>\n",
       "  </thead>\n",
       "  <tbody>\n",
       "    <tr>\n",
       "      <th>6</th>\n",
       "      <td>0.700049</td>\n",
       "      <td>0.221317</td>\n",
       "      <td>1.050960</td>\n",
       "      <td>0.147235</td>\n",
       "      <td>0.580718</td>\n",
       "      <td>0.551128</td>\n",
       "      <td>0.416289</td>\n",
       "      <td>-0.024395</td>\n",
       "      <td>-0.23153</td>\n",
       "      <td>-0.266117</td>\n",
       "      <td>...</td>\n",
       "      <td>1.104518</td>\n",
       "      <td>0.021678</td>\n",
       "      <td>0.337233</td>\n",
       "      <td>0.303742</td>\n",
       "      <td>0.173296</td>\n",
       "      <td>0.000595</td>\n",
       "      <td>0.053606</td>\n",
       "      <td>0.070818</td>\n",
       "      <td>0.074168</td>\n",
       "      <td>0.063211</td>\n",
       "    </tr>\n",
       "    <tr>\n",
       "      <th>7</th>\n",
       "      <td>0.017076</td>\n",
       "      <td>0.221317</td>\n",
       "      <td>0.333610</td>\n",
       "      <td>0.231803</td>\n",
       "      <td>0.527193</td>\n",
       "      <td>-0.023200</td>\n",
       "      <td>-0.701884</td>\n",
       "      <td>0.226663</td>\n",
       "      <td>-0.23153</td>\n",
       "      <td>-0.266117</td>\n",
       "      <td>...</td>\n",
       "      <td>0.111296</td>\n",
       "      <td>0.053733</td>\n",
       "      <td>0.277933</td>\n",
       "      <td>0.000538</td>\n",
       "      <td>0.492641</td>\n",
       "      <td>0.051376</td>\n",
       "      <td>0.053606</td>\n",
       "      <td>0.070818</td>\n",
       "      <td>0.074168</td>\n",
       "      <td>0.063211</td>\n",
       "    </tr>\n",
       "    <tr>\n",
       "      <th>8</th>\n",
       "      <td>0.017076</td>\n",
       "      <td>0.221317</td>\n",
       "      <td>0.333610</td>\n",
       "      <td>0.231803</td>\n",
       "      <td>0.527193</td>\n",
       "      <td>-0.023200</td>\n",
       "      <td>-0.701884</td>\n",
       "      <td>0.226663</td>\n",
       "      <td>-0.23153</td>\n",
       "      <td>-0.266117</td>\n",
       "      <td>...</td>\n",
       "      <td>0.111296</td>\n",
       "      <td>0.053733</td>\n",
       "      <td>0.277933</td>\n",
       "      <td>0.000538</td>\n",
       "      <td>0.492641</td>\n",
       "      <td>0.051376</td>\n",
       "      <td>0.053606</td>\n",
       "      <td>0.070818</td>\n",
       "      <td>0.074168</td>\n",
       "      <td>0.063211</td>\n",
       "    </tr>\n",
       "    <tr>\n",
       "      <th>15</th>\n",
       "      <td>-0.376638</td>\n",
       "      <td>-0.245544</td>\n",
       "      <td>-1.239933</td>\n",
       "      <td>-0.309435</td>\n",
       "      <td>-0.763337</td>\n",
       "      <td>-0.101570</td>\n",
       "      <td>0.354851</td>\n",
       "      <td>0.596961</td>\n",
       "      <td>-0.23153</td>\n",
       "      <td>-0.266117</td>\n",
       "      <td>...</td>\n",
       "      <td>1.537433</td>\n",
       "      <td>0.095750</td>\n",
       "      <td>0.582683</td>\n",
       "      <td>0.010317</td>\n",
       "      <td>0.125919</td>\n",
       "      <td>0.356363</td>\n",
       "      <td>0.053606</td>\n",
       "      <td>0.070818</td>\n",
       "      <td>0.074168</td>\n",
       "      <td>0.063211</td>\n",
       "    </tr>\n",
       "    <tr>\n",
       "      <th>16</th>\n",
       "      <td>-0.376638</td>\n",
       "      <td>-0.245544</td>\n",
       "      <td>-1.239933</td>\n",
       "      <td>-0.309435</td>\n",
       "      <td>-0.763337</td>\n",
       "      <td>-0.101570</td>\n",
       "      <td>0.354851</td>\n",
       "      <td>0.596961</td>\n",
       "      <td>-0.23153</td>\n",
       "      <td>-0.266117</td>\n",
       "      <td>...</td>\n",
       "      <td>1.537433</td>\n",
       "      <td>0.095750</td>\n",
       "      <td>0.582683</td>\n",
       "      <td>0.010317</td>\n",
       "      <td>0.125919</td>\n",
       "      <td>0.356363</td>\n",
       "      <td>0.053606</td>\n",
       "      <td>0.070818</td>\n",
       "      <td>0.074168</td>\n",
       "      <td>0.063211</td>\n",
       "    </tr>\n",
       "  </tbody>\n",
       "</table>\n",
       "<p>5 rows × 24 columns</p>\n",
       "</div>"
      ],
      "text/plain": [
       "        Var1      Var2      Var3      Var4      Var5      Var6      Var7  \\\n",
       "6   0.700049  0.221317  1.050960  0.147235  0.580718  0.551128  0.416289   \n",
       "7   0.017076  0.221317  0.333610  0.231803  0.527193 -0.023200 -0.701884   \n",
       "8   0.017076  0.221317  0.333610  0.231803  0.527193 -0.023200 -0.701884   \n",
       "15 -0.376638 -0.245544 -1.239933 -0.309435 -0.763337 -0.101570  0.354851   \n",
       "16 -0.376638 -0.245544 -1.239933 -0.309435 -0.763337 -0.101570  0.354851   \n",
       "\n",
       "        Var8   NVVar1    NVVar2  ...  Var3_sqr  Var4_sqr  Var5_sqr  Var6_sqr  \\\n",
       "6  -0.024395 -0.23153 -0.266117  ...  1.104518  0.021678  0.337233  0.303742   \n",
       "7   0.226663 -0.23153 -0.266117  ...  0.111296  0.053733  0.277933  0.000538   \n",
       "8   0.226663 -0.23153 -0.266117  ...  0.111296  0.053733  0.277933  0.000538   \n",
       "15  0.596961 -0.23153 -0.266117  ...  1.537433  0.095750  0.582683  0.010317   \n",
       "16  0.596961 -0.23153 -0.266117  ...  1.537433  0.095750  0.582683  0.010317   \n",
       "\n",
       "    Var7_sqr  Var8_sqr  NVVar1_sqr  NVVar2_sqr  NVVar3_sqr  NVVar4_sqr  \n",
       "6   0.173296  0.000595    0.053606    0.070818    0.074168    0.063211  \n",
       "7   0.492641  0.051376    0.053606    0.070818    0.074168    0.063211  \n",
       "8   0.492641  0.051376    0.053606    0.070818    0.074168    0.063211  \n",
       "15  0.125919  0.356363    0.053606    0.070818    0.074168    0.063211  \n",
       "16  0.125919  0.356363    0.053606    0.070818    0.074168    0.063211  \n",
       "\n",
       "[5 rows x 24 columns]"
      ]
     },
     "execution_count": 99,
     "metadata": {},
     "output_type": "execute_result"
    }
   ],
   "source": [
    "X_numeric = train_dat[preds_numeric]\n",
    "X_numeric.head()"
   ]
  },
  {
   "cell_type": "code",
   "execution_count": null,
   "id": "659af593",
   "metadata": {},
   "outputs": [],
   "source": []
  },
  {
   "cell_type": "markdown",
   "id": "55f1caa1",
   "metadata": {},
   "source": [
    "## Model Fitting"
   ]
  },
  {
   "cell_type": "code",
   "execution_count": 102,
   "id": "5f8458aa",
   "metadata": {},
   "outputs": [],
   "source": [
    "y = train_dat['Claim']\n",
    "X = pd.concat([X_categorical, X_numeric], axis = 1)"
   ]
  },
  {
   "cell_type": "code",
   "execution_count": 103,
   "id": "40cdae29",
   "metadata": {},
   "outputs": [
    {
     "ename": "MissingDataError",
     "evalue": "exog contains inf or nans",
     "output_type": "error",
     "traceback": [
      "\u001b[1;31m---------------------------------------------------------------------------\u001b[0m",
      "\u001b[1;31mMissingDataError\u001b[0m                          Traceback (most recent call last)",
      "Input \u001b[1;32mIn [103]\u001b[0m, in \u001b[0;36m<cell line: 3>\u001b[1;34m()\u001b[0m\n\u001b[0;32m      1\u001b[0m \u001b[38;5;66;03m# Try two step model -- first logistic regression to predict claim, then conditional on claim use gamma to predict severit\u001b[39;00m\n\u001b[1;32m----> 3\u001b[0m logistic_model \u001b[38;5;241m=\u001b[39m \u001b[43msm\u001b[49m\u001b[38;5;241;43m.\u001b[39;49m\u001b[43mGLM\u001b[49m\u001b[43m(\u001b[49m\u001b[43my\u001b[49m\u001b[43m,\u001b[49m\u001b[43mX\u001b[49m\u001b[43m,\u001b[49m\u001b[43m \u001b[49m\u001b[43mfamily\u001b[49m\u001b[38;5;241;43m=\u001b[39;49m\u001b[43msm\u001b[49m\u001b[38;5;241;43m.\u001b[39;49m\u001b[43mfamilies\u001b[49m\u001b[38;5;241;43m.\u001b[39;49m\u001b[43mBinomial\u001b[49m\u001b[43m(\u001b[49m\u001b[43m)\u001b[49m\u001b[43m)\u001b[49m\n",
      "File \u001b[1;32mC:\\virtualenvs\\AutoClaims\\lib\\site-packages\\statsmodels\\genmod\\generalized_linear_model.py:316\u001b[0m, in \u001b[0;36mGLM.__init__\u001b[1;34m(self, endog, exog, family, offset, exposure, freq_weights, var_weights, missing, **kwargs)\u001b[0m\n\u001b[0;32m    313\u001b[0m \u001b[38;5;28mself\u001b[39m\u001b[38;5;241m.\u001b[39mfreq_weights \u001b[38;5;241m=\u001b[39m freq_weights\n\u001b[0;32m    314\u001b[0m \u001b[38;5;28mself\u001b[39m\u001b[38;5;241m.\u001b[39mvar_weights \u001b[38;5;241m=\u001b[39m var_weights\n\u001b[1;32m--> 316\u001b[0m \u001b[38;5;28msuper\u001b[39m(GLM, \u001b[38;5;28mself\u001b[39m)\u001b[38;5;241m.\u001b[39m\u001b[38;5;21m__init__\u001b[39m(endog, exog, missing\u001b[38;5;241m=\u001b[39mmissing,\n\u001b[0;32m    317\u001b[0m                           offset\u001b[38;5;241m=\u001b[39moffset, exposure\u001b[38;5;241m=\u001b[39mexposure,\n\u001b[0;32m    318\u001b[0m                           freq_weights\u001b[38;5;241m=\u001b[39mfreq_weights,\n\u001b[0;32m    319\u001b[0m                           var_weights\u001b[38;5;241m=\u001b[39mvar_weights, \u001b[38;5;241m*\u001b[39m\u001b[38;5;241m*\u001b[39mkwargs)\n\u001b[0;32m    320\u001b[0m \u001b[38;5;28mself\u001b[39m\u001b[38;5;241m.\u001b[39m_check_inputs(family, \u001b[38;5;28mself\u001b[39m\u001b[38;5;241m.\u001b[39moffset, \u001b[38;5;28mself\u001b[39m\u001b[38;5;241m.\u001b[39mexposure, \u001b[38;5;28mself\u001b[39m\u001b[38;5;241m.\u001b[39mendog,\n\u001b[0;32m    321\u001b[0m                    \u001b[38;5;28mself\u001b[39m\u001b[38;5;241m.\u001b[39mfreq_weights, \u001b[38;5;28mself\u001b[39m\u001b[38;5;241m.\u001b[39mvar_weights)\n\u001b[0;32m    322\u001b[0m \u001b[38;5;28;01mif\u001b[39;00m offset \u001b[38;5;129;01mis\u001b[39;00m \u001b[38;5;28;01mNone\u001b[39;00m:\n",
      "File \u001b[1;32mC:\\virtualenvs\\AutoClaims\\lib\\site-packages\\statsmodels\\base\\model.py:267\u001b[0m, in \u001b[0;36mLikelihoodModel.__init__\u001b[1;34m(self, endog, exog, **kwargs)\u001b[0m\n\u001b[0;32m    266\u001b[0m \u001b[38;5;28;01mdef\u001b[39;00m \u001b[38;5;21m__init__\u001b[39m(\u001b[38;5;28mself\u001b[39m, endog, exog\u001b[38;5;241m=\u001b[39m\u001b[38;5;28;01mNone\u001b[39;00m, \u001b[38;5;241m*\u001b[39m\u001b[38;5;241m*\u001b[39mkwargs):\n\u001b[1;32m--> 267\u001b[0m     \u001b[38;5;28msuper\u001b[39m()\u001b[38;5;241m.\u001b[39m\u001b[38;5;21m__init__\u001b[39m(endog, exog, \u001b[38;5;241m*\u001b[39m\u001b[38;5;241m*\u001b[39mkwargs)\n\u001b[0;32m    268\u001b[0m     \u001b[38;5;28mself\u001b[39m\u001b[38;5;241m.\u001b[39minitialize()\n",
      "File \u001b[1;32mC:\\virtualenvs\\AutoClaims\\lib\\site-packages\\statsmodels\\base\\model.py:92\u001b[0m, in \u001b[0;36mModel.__init__\u001b[1;34m(self, endog, exog, **kwargs)\u001b[0m\n\u001b[0;32m     90\u001b[0m missing \u001b[38;5;241m=\u001b[39m kwargs\u001b[38;5;241m.\u001b[39mpop(\u001b[38;5;124m'\u001b[39m\u001b[38;5;124mmissing\u001b[39m\u001b[38;5;124m'\u001b[39m, \u001b[38;5;124m'\u001b[39m\u001b[38;5;124mnone\u001b[39m\u001b[38;5;124m'\u001b[39m)\n\u001b[0;32m     91\u001b[0m hasconst \u001b[38;5;241m=\u001b[39m kwargs\u001b[38;5;241m.\u001b[39mpop(\u001b[38;5;124m'\u001b[39m\u001b[38;5;124mhasconst\u001b[39m\u001b[38;5;124m'\u001b[39m, \u001b[38;5;28;01mNone\u001b[39;00m)\n\u001b[1;32m---> 92\u001b[0m \u001b[38;5;28mself\u001b[39m\u001b[38;5;241m.\u001b[39mdata \u001b[38;5;241m=\u001b[39m \u001b[38;5;28mself\u001b[39m\u001b[38;5;241m.\u001b[39m_handle_data(endog, exog, missing, hasconst,\n\u001b[0;32m     93\u001b[0m                               \u001b[38;5;241m*\u001b[39m\u001b[38;5;241m*\u001b[39mkwargs)\n\u001b[0;32m     94\u001b[0m \u001b[38;5;28mself\u001b[39m\u001b[38;5;241m.\u001b[39mk_constant \u001b[38;5;241m=\u001b[39m \u001b[38;5;28mself\u001b[39m\u001b[38;5;241m.\u001b[39mdata\u001b[38;5;241m.\u001b[39mk_constant\n\u001b[0;32m     95\u001b[0m \u001b[38;5;28mself\u001b[39m\u001b[38;5;241m.\u001b[39mexog \u001b[38;5;241m=\u001b[39m \u001b[38;5;28mself\u001b[39m\u001b[38;5;241m.\u001b[39mdata\u001b[38;5;241m.\u001b[39mexog\n",
      "File \u001b[1;32mC:\\virtualenvs\\AutoClaims\\lib\\site-packages\\statsmodels\\base\\model.py:132\u001b[0m, in \u001b[0;36mModel._handle_data\u001b[1;34m(self, endog, exog, missing, hasconst, **kwargs)\u001b[0m\n\u001b[0;32m    131\u001b[0m \u001b[38;5;28;01mdef\u001b[39;00m \u001b[38;5;21m_handle_data\u001b[39m(\u001b[38;5;28mself\u001b[39m, endog, exog, missing, hasconst, \u001b[38;5;241m*\u001b[39m\u001b[38;5;241m*\u001b[39mkwargs):\n\u001b[1;32m--> 132\u001b[0m     data \u001b[38;5;241m=\u001b[39m handle_data(endog, exog, missing, hasconst, \u001b[38;5;241m*\u001b[39m\u001b[38;5;241m*\u001b[39mkwargs)\n\u001b[0;32m    133\u001b[0m     \u001b[38;5;66;03m# kwargs arrays could have changed, easier to just attach here\u001b[39;00m\n\u001b[0;32m    134\u001b[0m     \u001b[38;5;28;01mfor\u001b[39;00m key \u001b[38;5;129;01min\u001b[39;00m kwargs:\n",
      "File \u001b[1;32mC:\\virtualenvs\\AutoClaims\\lib\\site-packages\\statsmodels\\base\\data.py:673\u001b[0m, in \u001b[0;36mhandle_data\u001b[1;34m(endog, exog, missing, hasconst, **kwargs)\u001b[0m\n\u001b[0;32m    670\u001b[0m     exog \u001b[38;5;241m=\u001b[39m np\u001b[38;5;241m.\u001b[39masarray(exog)\n\u001b[0;32m    672\u001b[0m klass \u001b[38;5;241m=\u001b[39m handle_data_class_factory(endog, exog)\n\u001b[1;32m--> 673\u001b[0m \u001b[38;5;28;01mreturn\u001b[39;00m klass(endog, exog\u001b[38;5;241m=\u001b[39mexog, missing\u001b[38;5;241m=\u001b[39mmissing, hasconst\u001b[38;5;241m=\u001b[39mhasconst,\n\u001b[0;32m    674\u001b[0m              \u001b[38;5;241m*\u001b[39m\u001b[38;5;241m*\u001b[39mkwargs)\n",
      "File \u001b[1;32mC:\\virtualenvs\\AutoClaims\\lib\\site-packages\\statsmodels\\base\\data.py:86\u001b[0m, in \u001b[0;36mModelData.__init__\u001b[1;34m(self, endog, exog, missing, hasconst, **kwargs)\u001b[0m\n\u001b[0;32m     84\u001b[0m \u001b[38;5;28mself\u001b[39m\u001b[38;5;241m.\u001b[39mconst_idx \u001b[38;5;241m=\u001b[39m \u001b[38;5;28;01mNone\u001b[39;00m\n\u001b[0;32m     85\u001b[0m \u001b[38;5;28mself\u001b[39m\u001b[38;5;241m.\u001b[39mk_constant \u001b[38;5;241m=\u001b[39m \u001b[38;5;241m0\u001b[39m\n\u001b[1;32m---> 86\u001b[0m \u001b[38;5;28;43mself\u001b[39;49m\u001b[38;5;241;43m.\u001b[39;49m\u001b[43m_handle_constant\u001b[49m\u001b[43m(\u001b[49m\u001b[43mhasconst\u001b[49m\u001b[43m)\u001b[49m\n\u001b[0;32m     87\u001b[0m \u001b[38;5;28mself\u001b[39m\u001b[38;5;241m.\u001b[39m_check_integrity()\n\u001b[0;32m     88\u001b[0m \u001b[38;5;28mself\u001b[39m\u001b[38;5;241m.\u001b[39m_cache \u001b[38;5;241m=\u001b[39m {}\n",
      "File \u001b[1;32mC:\\virtualenvs\\AutoClaims\\lib\\site-packages\\statsmodels\\base\\data.py:132\u001b[0m, in \u001b[0;36mModelData._handle_constant\u001b[1;34m(self, hasconst)\u001b[0m\n\u001b[0;32m    130\u001b[0m exog_max \u001b[38;5;241m=\u001b[39m np\u001b[38;5;241m.\u001b[39mmax(\u001b[38;5;28mself\u001b[39m\u001b[38;5;241m.\u001b[39mexog, axis\u001b[38;5;241m=\u001b[39m\u001b[38;5;241m0\u001b[39m)\n\u001b[0;32m    131\u001b[0m \u001b[38;5;28;01mif\u001b[39;00m \u001b[38;5;129;01mnot\u001b[39;00m np\u001b[38;5;241m.\u001b[39misfinite(exog_max)\u001b[38;5;241m.\u001b[39mall():\n\u001b[1;32m--> 132\u001b[0m     \u001b[38;5;28;01mraise\u001b[39;00m MissingDataError(\u001b[38;5;124m'\u001b[39m\u001b[38;5;124mexog contains inf or nans\u001b[39m\u001b[38;5;124m'\u001b[39m)\n\u001b[0;32m    133\u001b[0m exog_min \u001b[38;5;241m=\u001b[39m np\u001b[38;5;241m.\u001b[39mmin(\u001b[38;5;28mself\u001b[39m\u001b[38;5;241m.\u001b[39mexog, axis\u001b[38;5;241m=\u001b[39m\u001b[38;5;241m0\u001b[39m)\n\u001b[0;32m    134\u001b[0m const_idx \u001b[38;5;241m=\u001b[39m np\u001b[38;5;241m.\u001b[39mwhere(exog_max \u001b[38;5;241m==\u001b[39m exog_min)[\u001b[38;5;241m0\u001b[39m]\u001b[38;5;241m.\u001b[39msqueeze()\n",
      "\u001b[1;31mMissingDataError\u001b[0m: exog contains inf or nans"
     ]
    }
   ],
   "source": [
    "# Try two step model -- first logistic regression to predict claim, then conditional on claim use gamma to predict severity\n",
    "\n",
    "logistic_model = sm.GLM(y,X, family=sm.families.Binomial())"
   ]
  },
  {
   "cell_type": "code",
   "execution_count": null,
   "id": "b7e04f60",
   "metadata": {},
   "outputs": [],
   "source": []
  },
  {
   "cell_type": "code",
   "execution_count": null,
   "id": "e9d9d253",
   "metadata": {},
   "outputs": [],
   "source": []
  },
  {
   "cell_type": "code",
   "execution_count": null,
   "id": "6648a44b",
   "metadata": {},
   "outputs": [],
   "source": []
  },
  {
   "cell_type": "code",
   "execution_count": null,
   "id": "49a2ec5b",
   "metadata": {},
   "outputs": [],
   "source": []
  },
  {
   "cell_type": "code",
   "execution_count": null,
   "id": "20426068",
   "metadata": {},
   "outputs": [],
   "source": []
  },
  {
   "cell_type": "code",
   "execution_count": null,
   "id": "0b433a49",
   "metadata": {},
   "outputs": [],
   "source": []
  },
  {
   "cell_type": "code",
   "execution_count": null,
   "id": "b190ec23",
   "metadata": {},
   "outputs": [],
   "source": []
  },
  {
   "cell_type": "code",
   "execution_count": null,
   "id": "e87cfdb4",
   "metadata": {},
   "outputs": [],
   "source": []
  },
  {
   "cell_type": "code",
   "execution_count": null,
   "id": "1abe75ce",
   "metadata": {},
   "outputs": [],
   "source": []
  },
  {
   "cell_type": "code",
   "execution_count": null,
   "id": "aef12817",
   "metadata": {},
   "outputs": [],
   "source": []
  },
  {
   "cell_type": "code",
   "execution_count": null,
   "id": "a7914d27",
   "metadata": {},
   "outputs": [],
   "source": []
  },
  {
   "cell_type": "code",
   "execution_count": null,
   "id": "67df9cc9",
   "metadata": {},
   "outputs": [],
   "source": []
  },
  {
   "cell_type": "code",
   "execution_count": null,
   "id": "060e5770",
   "metadata": {},
   "outputs": [],
   "source": []
  },
  {
   "cell_type": "code",
   "execution_count": null,
   "id": "078ea8f0",
   "metadata": {},
   "outputs": [],
   "source": []
  },
  {
   "cell_type": "code",
   "execution_count": null,
   "id": "a44cd9a9",
   "metadata": {},
   "outputs": [],
   "source": []
  },
  {
   "cell_type": "code",
   "execution_count": null,
   "id": "e4634712",
   "metadata": {},
   "outputs": [],
   "source": []
  },
  {
   "cell_type": "code",
   "execution_count": null,
   "id": "0edb9adb",
   "metadata": {},
   "outputs": [],
   "source": []
  },
  {
   "cell_type": "code",
   "execution_count": null,
   "id": "ceafc817",
   "metadata": {},
   "outputs": [],
   "source": []
  }
 ],
 "metadata": {
  "kernelspec": {
   "display_name": "AutoClaims",
   "language": "python",
   "name": "autoclaims"
  },
  "language_info": {
   "codemirror_mode": {
    "name": "ipython",
    "version": 3
   },
   "file_extension": ".py",
   "mimetype": "text/x-python",
   "name": "python",
   "nbconvert_exporter": "python",
   "pygments_lexer": "ipython3",
   "version": "3.9.13"
  }
 },
 "nbformat": 4,
 "nbformat_minor": 5
}
